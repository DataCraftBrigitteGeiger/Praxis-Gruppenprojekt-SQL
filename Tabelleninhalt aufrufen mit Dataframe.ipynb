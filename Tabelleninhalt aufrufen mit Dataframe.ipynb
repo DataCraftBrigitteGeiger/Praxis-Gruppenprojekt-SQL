{
 "cells": [
  {
   "cell_type": "code",
   "execution_count": 55,
   "outputs": [
    {
     "name": "stdout",
     "output_type": "stream",
     "text": [
      "SELECT * FROM bestellungen\n",
      "SELECT * FROM kundeninfo\n",
      "SELECT * FROM produkt_klasse\n",
      "SELECT * FROM produkte\n",
      "   bestellid  kundenid  produktid  menge bestelldatum\n",
      "0          1        21         28      6   30.09.2022\n",
      "1          2        14         18      7   06.02.2023\n",
      "2          3         9         41      4   16.12.2022\n",
      "3          4        13         14      8   31.07.2022\n",
      "4          5         9         27      7   05.02.2023\n"
     ]
    },
    {
     "name": "stderr",
     "output_type": "stream",
     "text": [
      "C:\\Users\\User\\AppData\\Local\\Temp\\ipykernel_11884\\4128470349.py:17: UserWarning: pandas only supports SQLAlchemy connectable (engine/connection) or database string URI or sqlite3 DBAPI2 connection. Other DBAPI2 objects are not tested. Please consider using SQLAlchemy.\n",
      "  df = pd.read_sql(query_1, conn)\n",
      "C:\\Users\\User\\AppData\\Local\\Temp\\ipykernel_11884\\4128470349.py:21: UserWarning: pandas only supports SQLAlchemy connectable (engine/connection) or database string URI or sqlite3 DBAPI2 connection. Other DBAPI2 objects are not tested. Please consider using SQLAlchemy.\n",
      "  df_1 = pd.read_sql(query_2, conn)\n",
      "C:\\Users\\User\\AppData\\Local\\Temp\\ipykernel_11884\\4128470349.py:25: UserWarning: pandas only supports SQLAlchemy connectable (engine/connection) or database string URI or sqlite3 DBAPI2 connection. Other DBAPI2 objects are not tested. Please consider using SQLAlchemy.\n",
      "  df_2 = pd.read_sql(query_3, conn)\n",
      "C:\\Users\\User\\AppData\\Local\\Temp\\ipykernel_11884\\4128470349.py:29: UserWarning: pandas only supports SQLAlchemy connectable (engine/connection) or database string URI or sqlite3 DBAPI2 connection. Other DBAPI2 objects are not tested. Please consider using SQLAlchemy.\n",
      "  df_3 = pd.read_sql(query_4, conn)\n"
     ]
    }
   ],
   "source": [
    "import sqlite3\n",
    "import psycopg2\n",
    "import pandas as pd\n",
    "\n",
    "conn = psycopg2.connect(\n",
    "    host=\"localhost\",\n",
    "    port=\"5432\",\n",
    "    database=\"postgres\",\n",
    "    user=\"postgres\",\n",
    "    password=\"SibelEbruBrigitte869867*\"\n",
    ")\n",
    "\n",
    "\n",
    "# SQL-Abfrage ausführen und Daten in einen Pandas-DataFrame laden\n",
    "\n",
    "query_1 = \"SELECT * FROM bestellungen\"\n",
    "df = pd.read_sql(query_1, conn)\n",
    "print(query_1)\n",
    "\n",
    "query_2 = \"SELECT * FROM kundeninfo\"\n",
    "df_1 = pd.read_sql(query_2, conn)\n",
    "print(query_2)\n",
    "\n",
    "query_3 = \"SELECT * FROM produkt_klasse\"\n",
    "df_2 = pd.read_sql(query_3, conn)\n",
    "print(query_3)\n",
    "\n",
    "query_4 = \"SELECT * FROM produkte\"\n",
    "df_3 = pd.read_sql(query_4, conn)\n",
    "print(query_4)\n",
    "\n",
    "\n",
    "\n",
    "# Verbindung zur Datenbank schließen\n",
    "conn.close()\n",
    "# Den DataFrame anzeigen\n",
    "print(df.head())\n"
   ],
   "metadata": {
    "collapsed": false
   }
  },
  {
   "cell_type": "code",
   "execution_count": 53,
   "outputs": [
    {
     "name": "stdout",
     "output_type": "stream",
     "text": [
      "    kategorieid                     Name\n",
      "0           1.0               Elektronik\n",
      "1           2.0                 Kleidung\n",
      "2           3.0                   Bücher\n",
      "3           4.0                 Haushalt\n",
      "4           5.0     Schönheit und Pflege\n",
      "5           6.0       Sport und Freizeit\n",
      "6           7.0      Küche und Esszimmer\n",
      "7           8.0       Garten und Outdoor\n",
      "8           9.0     Spielzeug und Spiele\n",
      "9          10.0                    Möbel\n",
      "10         11.0        Auto und Motorrad\n",
      "11         12.0     Computer und Zubehör\n",
      "12         13.0         Musikinstrumente\n",
      "13         14.0         Filme und Serien\n",
      "14         15.0               Tierbedarf\n",
      "15         16.0  Gesundheit und Wellness\n",
      "16         17.0                     Baby\n",
      "17         18.0                  Schmuck\n",
      "18         19.0                    Uhren\n",
      "19         20.0               Bürobedarf\n",
      "20          NaN                         \n"
     ]
    }
   ],
   "source": [
    "print(df_2)"
   ],
   "metadata": {
    "collapsed": false
   }
  },
  {
   "cell_type": "code",
   "execution_count": 56,
   "outputs": [
    {
     "name": "stdout",
     "output_type": "stream",
     "text": [
      "    produktid                                       product_name  preis   \n",
      "0           1               Tiffany & Co. Diamant-Verlobungsring    121  \\\n",
      "1           2               LEGO Star Wars Millennium Falcon Set    184   \n",
      "2           3                      Fender Stratocaster E-Gitarre     40   \n",
      "3           4                                   Levi's 501 Jeans    190   \n",
      "4           5                    Yamaha YPG-235 Digital Keyboard    106   \n",
      "5           6                      Bulgari Serpenti Diamond Ring    245   \n",
      "6           7                                  Ikea Malm Kommode     16   \n",
      "7           8                Graco Pack 'n Play Portable Playard    161   \n",
      "8           9                            HP LaserJet Pro Drucker     53   \n",
      "9          10         Royal Canin Adult Trockenfutter f�r Katzen    271   \n",
      "10         11                     Dyson V11 Absolute Staubsauger     87   \n",
      "11         12                 David Yurman Cable Classic Armreif    294   \n",
      "12         13                          Pampers Swaddlers Diapers      8   \n",
      "13         14                        Moleskine Classic Notizbuch    269   \n",
      "14         15    Frontline Plus Floh- und Zeckenschutz f�r Hunde     25   \n",
      "15         16                              Pandora Charm-Armband    101   \n",
      "16         17                      Samsung Galaxy S21 Smartphone     76   \n",
      "17         18                                 Der Herr der Ringe    124   \n",
      "18         19                    Fitbit Charge 4 Fitness-Tracker    265   \n",
      "19         20               Instant Pot Duo Plus Schnellkochtopf     50   \n",
      "20         21                    Wilson Pro Staff Tennisschl�ger    124   \n",
      "21         22                        Monopoly Classic Brettspiel     45   \n",
      "22         23                         Swarovski Crystal Ohrringe    170   \n",
      "23         24                           Apple MacBook Pro Laptop    183   \n",
      "24         25                 Staedtler Triplus Fineliner Stifte    329   \n",
      "25         26                           Apple MacBook Pro Laptop    182   \n",
      "26         27  Game of Thrones: Die komplette Serie (DVD-Boxset)    279   \n",
      "27         28                           Fellowes Aktenvernichter      5   \n",
      "28         29                              Cartier Love Bracelet      2   \n",
      "29         30                        Trixie Kratzbaum f�r Katzen    289   \n",
      "30         31               Marvel's Avengers: Endgame (Blu-ray)    286   \n",
      "31         32                         Rolex Submariner Herrenuhr    267   \n",
      "32         33          Clarisonic Mia 2 Gesichtsreinigungsb�rste    155   \n",
      "33         34                                Coleman Campingzelt    137   \n",
      "34         35                         Adidas Ultraboost Sneakers     73   \n",
      "35         36                         Netflix Premium-Abonnement    241   \n",
      "36         37                      TAG Heuer Carrera Chronograph    253   \n",
      "37         38                                 Eames Lounge Chair    215   \n",
      "38         39                  Garmin Forerunner 245 GPS-Laufuhr     68   \n",
      "39         40                                    Zara Trenchcoat     52   \n",
      "40         41                      Michelin Pilot Sport 4 Reifen     93   \n",
      "41         42              Fisher-Price Infant-to-Toddler Rocker     56   \n",
      "42         43                             BabyBj�rn Baby Carrier    135   \n",
      "43         44                               WMF Besteckset Miami    108   \n",
      "44         45            Philips Sonicare elektrische Zahnb�rste    209   \n",
      "45         46                                Intex Easy Set Pool     93   \n",
      "46         47                          Pampers Swaddlers Diapers      1   \n",
      "47         48                  Alex and Ani Birthstone Halskette    156   \n",
      "\n",
      "    kategorieid  \n",
      "0            18  \n",
      "1             9  \n",
      "2            13  \n",
      "3             2  \n",
      "4            13  \n",
      "5            18  \n",
      "6            10  \n",
      "7            17  \n",
      "8            20  \n",
      "9            15  \n",
      "10            4  \n",
      "11           18  \n",
      "12           17  \n",
      "13           27  \n",
      "14           15  \n",
      "15           18  \n",
      "16            1  \n",
      "17            3  \n",
      "18           16  \n",
      "19            4  \n",
      "20            6  \n",
      "21            9  \n",
      "22           18  \n",
      "23           12  \n",
      "24           40  \n",
      "25            1  \n",
      "26           14  \n",
      "27           20  \n",
      "28           18  \n",
      "29           15  \n",
      "30           14  \n",
      "31           19  \n",
      "32            5  \n",
      "33            6  \n",
      "34            2  \n",
      "35           14  \n",
      "36           19  \n",
      "37           10  \n",
      "38            6  \n",
      "39            2  \n",
      "40           11  \n",
      "41           17  \n",
      "42           17  \n",
      "43            7  \n",
      "44           16  \n",
      "45            8  \n",
      "46           17  \n",
      "47           18  \n"
     ]
    }
   ],
   "source": [
    "print(df_3)"
   ],
   "metadata": {
    "collapsed": false
   }
  },
  {
   "cell_type": "code",
   "execution_count": null,
   "outputs": [],
   "source": [],
   "metadata": {
    "collapsed": false
   }
  }
 ],
 "metadata": {
  "kernelspec": {
   "display_name": "Python 3",
   "language": "python",
   "name": "python3"
  },
  "language_info": {
   "codemirror_mode": {
    "name": "ipython",
    "version": 2
   },
   "file_extension": ".py",
   "mimetype": "text/x-python",
   "name": "python",
   "nbconvert_exporter": "python",
   "pygments_lexer": "ipython2",
   "version": "2.7.6"
  }
 },
 "nbformat": 4,
 "nbformat_minor": 0
}
